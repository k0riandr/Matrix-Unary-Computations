{
 "cells": [
  {
   "cell_type": "code",
   "execution_count": 1,
   "id": "de85e9bb-acc2-48ee-811a-c37e753fbefd",
   "metadata": {},
   "outputs": [],
   "source": [
    "import numpy as np"
   ]
  },
  {
   "cell_type": "markdown",
   "id": "08aa0234-a12f-4bbd-b03a-0e1c8ab9630e",
   "metadata": {},
   "source": [
    "### Practice Problem 1:"
   ]
  },
  {
   "cell_type": "code",
   "execution_count": 12,
   "id": "2cc2c3f9-6bd4-4291-b198-2323f3a4f139",
   "metadata": {},
   "outputs": [
    {
     "name": "stdout",
     "output_type": "stream",
     "text": [
      "Random Matrix:\n",
      " [[3 8 6 8]\n",
      " [4 1 9 6]\n",
      " [7 7 5 9]\n",
      " [1 2 9 1]]\n",
      "\n",
      "Is the random matrix symmetric?  False\n"
     ]
    }
   ],
   "source": [
    "#Create a 4  4×4 random matrix and check if it is symmetric.\n",
    "\n",
    "random_matrix = np.random.randint(1,10,(4,4))\n",
    "transpose_random = random_matrix.T\n",
    "\n",
    "#Check symmetry\n",
    "is_symmetric_random = (random_matrix == transpose_random).all()\n",
    "print(\"Random Matrix:\\n\", random_matrix)\n",
    "print(\"\\nIs the random matrix symmetric? \", is_symmetric_random)"
   ]
  },
  {
   "cell_type": "markdown",
   "id": "6ac40583-6a00-477c-81d9-61c7aa48efb9",
   "metadata": {},
   "source": [
    "### Practice Problem 2:"
   ]
  },
  {
   "cell_type": "code",
   "execution_count": 47,
   "id": "bff2e622-7bd1-4f5f-82da-7038eb68046a",
   "metadata": {},
   "outputs": [
    {
     "name": "stdout",
     "output_type": "stream",
     "text": [
      "\n",
      "Trace of Matrix A: 5\n"
     ]
    }
   ],
   "source": [
    "#Find the trace of a 5×5 identity matrix.\n",
    "\n",
    "A = np.array([[1,0,0,0,0],[0,1,0,0,0],[0,0,1,0,0],[0,0,0,1,0],[0,0,0,0,1]])\n",
    "\n",
    "def is_identity(A):\n",
    "    # Get the size of the matrix\n",
    "    size = A.shape[0]\n",
    "     \n",
    "    # Create the identity matrix of the same size\n",
    "    identity = np.eye(size)\n",
    "     \n",
    "    # Check if the matrix is equal to the identity matrix using numpy.allclose\n",
    "    return np.allclose(A, identity)\n",
    " \n",
    "#Calculate the trace of matrix A\n",
    "trace_A = np.trace(A)\n",
    "print(\"\\nTrace of Matrix A:\", trace_A)"
   ]
  },
  {
   "cell_type": "markdown",
   "id": "731c2b2e-377c-4ad3-aeb8-d774f5720eb0",
   "metadata": {},
   "source": [
    "### Practice Problem 3:"
   ]
  },
  {
   "cell_type": "code",
   "execution_count": 72,
   "id": "9cc92e97-cce7-452c-a239-4dc56460d8fc",
   "metadata": {},
   "outputs": [
    {
     "name": "stdout",
     "output_type": "stream",
     "text": [
      "\n",
      "Determinant of Matrix D: 22\n"
     ]
    }
   ],
   "source": [
    "#Compute the determinant of the following 3×3 matrix using NumPy:\n",
    "D = np.array([[1,2,3],[0,4,5],[1,0,6]])\n",
    "\n",
    "#Determinant using NumPy\n",
    "det_D = np.linalg.det(D)\n",
    "print(\"\\nDeterminant of Matrix D:\", round(det_D))\n",
    "\n",
    "#Manual computation\n",
    "#compute = (D[0,0]*((D[1,1]*D[2,2])-(D[1,2]*D[2,1]))) - (D[0,1] * ((D[1,0]*D[2,2])-(D[1,2]*D[2,0]))) + (D[0,2] * ((D[1,0]*D[2,1])-(D[1,1]*D[2,0])))"
   ]
  },
  {
   "cell_type": "markdown",
   "id": "174783b3-6e17-4131-a337-f31cd3b00b73",
   "metadata": {},
   "source": [
    "### Practice Problem 4:"
   ]
  },
  {
   "cell_type": "code",
   "execution_count": 98,
   "id": "346609a4-6a81-410e-9890-320082e38a31",
   "metadata": {},
   "outputs": [
    {
     "name": "stdout",
     "output_type": "stream",
     "text": [
      "\n",
      "Transpose of the Matrix:\n",
      " [[574483 520157 538782]\n",
      " [639803 570919 600669]\n",
      " [484293 412630 513965]]\n",
      "\n",
      "Determinant of the Matrix: -278462559568366\n"
     ]
    }
   ],
   "source": [
    "#Write code to generate a random 3×33 \\times 33×3 matrix representing pixel intensities and find its transpose and determinant.\n",
    "# Generate a random 3x3 matrix with values representing pixel intensities (0 to 255)\n",
    "matrix_A = np.random.randint(0, 256, size=(3, 33))\n",
    "matrix_B = np.random.randint(0, 256, size=(33,3))\n",
    "\n",
    "result = (matrix_A@matrix_B)\n",
    "\n",
    "# Calculate the transpose of the matrix\n",
    "transpose_matrix = np.transpose(result)\n",
    "\n",
    "# Calculate the determinant of the matrix\n",
    "determinant = np.linalg.det(result)\n",
    "\n",
    "print(\"\\nTranspose of the Matrix:\\n\", transpose_matrix)\n",
    "print(\"\\nDeterminant of the Matrix:\", round(determinant))"
   ]
  },
  {
   "cell_type": "markdown",
   "id": "b0788a78-b97f-41cb-ab73-036cddeadacb",
   "metadata": {},
   "source": [
    "### Practice Problem 5:"
   ]
  },
  {
   "cell_type": "code",
   "execution_count": 104,
   "id": "d96d05ac-973f-4c26-bff4-1689ef1adbf3",
   "metadata": {},
   "outputs": [
    {
     "name": "stdout",
     "output_type": "stream",
     "text": [
      "Random Matrix:\n",
      " [[2 9 5]\n",
      " [1 2 0]\n",
      " [9 5 5]]\n",
      "\n",
      "Symmetric Matrix:\n",
      " [[2 5 7]\n",
      " [5 2 2]\n",
      " [7 2 5]]\n",
      "\n",
      "Is the matrix symmetric? True\n",
      "\n",
      "Eigenvalues of the Symmetric Matrix:\n",
      " [12.78843215 -4.9174506   1.12901845]\n",
      "\n",
      "Eigenvectors of the Symmetric Matrix:\n",
      " [[ 0.62260932  0.77681612 -0.09441584]\n",
      " [ 0.41189996 -0.42791432 -0.80450467]\n",
      " [ 0.66535409 -0.46200222  0.58639397]]\n"
     ]
    }
   ],
   "source": [
    "#Symmetric matrices often appear in machine learning algorithms (e.g., covariance matrices). Create a symmetric 3×3 matrix and verify its properties.\n",
    "\n",
    "A = np.random.randint(0, 10, size=(3, 3))\n",
    "\n",
    "# Create a symmetric matrix\n",
    "symmetric_matrix = (A + A.T) // 2 \n",
    "\n",
    "# Verify symmetry (matrix equals its transpose)\n",
    "is_symmetric = np.allclose(symmetric_matrix, symmetric_matrix.T)\n",
    "\n",
    "# Calculate properties of the symmetric matrix\n",
    "eigenvalues, eigenvectors = np.linalg.eig(symmetric_matrix)  # Eigenvalues and eigenvectors\n",
    "\n",
    "print(\"Random Matrix:\\n\", A)\n",
    "print(\"\\nSymmetric Matrix:\\n\", symmetric_matrix)\n",
    "print(\"\\nIs the matrix symmetric?\", is_symmetric)\n",
    "print(\"\\nEigenvalues of the Symmetric Matrix:\\n\", eigenvalues)\n",
    "print(\"\\nEigenvectors of the Symmetric Matrix:\\n\", eigenvectors)"
   ]
  }
 ],
 "metadata": {
  "kernelspec": {
   "display_name": "Python 3 (ipykernel)",
   "language": "python",
   "name": "python3"
  },
  "language_info": {
   "codemirror_mode": {
    "name": "ipython",
    "version": 3
   },
   "file_extension": ".py",
   "mimetype": "text/x-python",
   "name": "python",
   "nbconvert_exporter": "python",
   "pygments_lexer": "ipython3",
   "version": "3.12.7"
  }
 },
 "nbformat": 4,
 "nbformat_minor": 5
}
